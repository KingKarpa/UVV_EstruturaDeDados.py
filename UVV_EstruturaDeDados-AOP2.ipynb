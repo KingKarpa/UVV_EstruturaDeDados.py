{
 "cells": [
  {
   "cell_type": "markdown",
   "id": "eba86bb6-c9f4-4eb6-9284-aa1955252d12",
   "metadata": {},
   "source": [
    "# UVV_EstruturaDeDados-AOP2\n",
    "Este notebook contém as duas atividades propostas pela disciplina Estrutura de Dados em sua Atividade Online Pontuada 2 (AOP2)."
   ]
  },
  {
   "cell_type": "markdown",
   "id": "332e3fcd-8c42-42d0-92c5-fe3540eb2817",
   "metadata": {},
   "source": [
    "### 1. Implementação do Cálculo de Gasto Médio\n",
    "Essa primeira atividade introduz um código base de um aplicativo de restaurante, propondo ao estudante que implemente um código para calcular a média do valor gasto por todos os clientes contidos na lista encadeada."
   ]
  },
  {
   "cell_type": "code",
   "execution_count": 1,
   "id": "488f9f40-f64a-4856-98f1-d4ec1fab813d",
   "metadata": {},
   "outputs": [],
   "source": [
    "# Classe Cliente <=============================\n",
    "class Cliente:\n",
    "    def __init__(self, nome, valorDaConta):\n",
    "        self.nome = nome\n",
    "        self.valorDaConta = valorDaConta\n",
    "    \n",
    "    def __repr__(self):\n",
    "        return f'{self.nome} - {self.valorDaConta}'"
   ]
  },
  {
   "cell_type": "code",
   "execution_count": 2,
   "id": "d378678f-ddd7-48ab-ad3d-eb17d0599346",
   "metadata": {},
   "outputs": [],
   "source": [
    "# Classe Nodo <=============================\n",
    "class Nodo:\n",
    "    def __init__(self, dado = 0, proximoNodo = None):\n",
    "        self.dado = dado\n",
    "        self.proximo = proximoNodo\n",
    "    \n",
    "    def __repr__(self):\n",
    "        return f'{self.dado} -> {self.proximo}'\n",
    "    \n",
    "    def setProximo(self, proximoNodo):\n",
    "        self.proximo = proximoNodo"
   ]
  },
  {
   "cell_type": "code",
   "execution_count": 3,
   "id": "7d00114b-df6b-4b43-9408-3d59baf95860",
   "metadata": {},
   "outputs": [],
   "source": [
    "# Classe Lista <=============================\n",
    "class ListaSimplesmenteEncadeada:\n",
    "    def __init__(self):\n",
    "        self.head = None\n",
    "        self.tamanhoDaLista = 0\n",
    "    \n",
    "    def insere(self, novoDado):\n",
    "        novoDado = Nodo(novoDado)\n",
    "        novoDado.proximo = self.head\n",
    "        self.head = novoDado\n",
    "        self.tamanhoDaLista += 1\n",
    "    \n",
    "    def delete(self):\n",
    "        if self.head == None:\n",
    "            print('A lista já está vazia')\n",
    "        \n",
    "        else:\n",
    "            self.head = self.head.proximo\n",
    "            self.tamanhoDaLista -= 1\n",
    "\n",
    "    # MÉTODO IMPLEMENTADO <=============================\n",
    "    # Calcula o gasto médio dos clientes na lista\n",
    "    def calcularGastoMedio(self):\n",
    "        # Impede a execução do método, caso a lista esteja vazia\n",
    "        if self.tamanhoDaLista == 0 or not self.head:\n",
    "            print('A lista está vazia.\\n')\n",
    "            return\n",
    "\n",
    "        # Define os valores iniciais para começar a repetição while\n",
    "        gastoTotal = 0\n",
    "        nodoAlvo = self.head\n",
    "\n",
    "        # Repetição While: Busca o valorDaConta do cliente alvo, soma ao gastoTotal e passa para o próximo node\n",
    "            # Repete enquanto o nodoAlvo for diferente de None\n",
    "        while (nodoAlvo):\n",
    "            dadosDoNodo = nodoAlvo.dado\n",
    "            gastoTotal += dadosDoNodo.valorDaConta\n",
    "            nodoAlvo = nodoAlvo.proximo\n",
    "\n",
    "        # Realiza o cálculo da média e impreme o gastoTotal e o gastoMedio\n",
    "        gastoMedio = gastoTotal / self.tamanhoDaLista\n",
    "        print(f'O Gasto Total dos clientes foi de: {gastoTotal} \\nO Gasto Médio por cliente foi de: {\"{:.2f}\".format(gastoMedio)}\\n')\n",
    "        # retorno comentado para não ser exibido na saída do Python Notebook\n",
    "        return #gastoMedio"
   ]
  },
  {
   "cell_type": "code",
   "execution_count": 4,
   "id": "28c444d3-6854-4cd9-b6cd-359ac8f800cd",
   "metadata": {
    "scrolled": true
   },
   "outputs": [
    {
     "name": "stdout",
     "output_type": "stream",
     "text": [
      "A lista está vazia.\n",
      "\n",
      "O Gasto Total dos clientes foi de: 600 \n",
      "O Gasto Médio por cliente foi de: 200.00\n",
      "\n",
      "O Gasto Total dos clientes foi de: 500 \n",
      "O Gasto Médio por cliente foi de: 250.00\n",
      "\n",
      "O Gasto Total dos clientes foi de: 769.48 \n",
      "O Gasto Médio por cliente foi de: 192.37\n",
      "\n"
     ]
    }
   ],
   "source": [
    "# Testando Implementação <=============================\n",
    "listaEncadeada = ListaSimplesmenteEncadeada()\n",
    "# Deve retorna \"A lista está vazia\"\n",
    "listaEncadeada.calcularGastoMedio()\n",
    "\n",
    "cliente1 = Cliente('Cliente1', 200)\n",
    "listaEncadeada.insere(cliente1)\n",
    "cliente2 = Cliente('Cliente2', 300)\n",
    "listaEncadeada.insere(cliente2)\n",
    "cliente3 = Cliente('Cliente3', 100)\n",
    "listaEncadeada.insere(cliente3)\n",
    "\n",
    "# Deve retornar a soma dos valores gastos pelos clientes inseridos acima (600) e a média deles\n",
    "listaEncadeada.calcularGastoMedio()\n",
    "\n",
    "# Ao remover o primeiro node, deve retonar apenas a soma do valor dos outros dois clientes (500) e a média deles\n",
    "listaEncadeada.delete()\n",
    "listaEncadeada.calcularGastoMedio()\n",
    "\n",
    "# Funciona com valores flutuantes\n",
    "cliente4 = Cliente('Cliente', 99.99)\n",
    "listaEncadeada.insere(cliente4)\n",
    "cliente5 = Cliente('Cliente', 169.49)\n",
    "listaEncadeada.insere(cliente5)\n",
    "listaEncadeada.calcularGastoMedio()"
   ]
  },
  {
   "cell_type": "markdown",
   "id": "b9f75051-754e-4b6e-ae70-d6dbc5f5d378",
   "metadata": {},
   "source": [
    "-----------------------------------------------------------------------------------------------------------------------------------------------------------"
   ]
  },
  {
   "cell_type": "markdown",
   "id": "492ce7eb-b013-4667-b02d-8771bd2f5aaa",
   "metadata": {},
   "source": [
    "### 2. Verificação do Balanceamento de Parênteses\n",
    "Essa segunda atividade propõe ao estudante criar um código que receba uma string de parênteses e verifique seu balanceamento, isto é, para cada abertura de parêntese, existe um fechamento de parêntese. Isso deve ser feito utilizando a estrutura de dados pilhas."
   ]
  },
  {
   "cell_type": "code",
   "execution_count": 5,
   "id": "57b589f2-9c9a-4419-87c5-861f63e562e0",
   "metadata": {},
   "outputs": [],
   "source": [
    "# Função que verifica o balanceamento dos parênteses\n",
    "def verificarParenteses(stringDeParenteses):\n",
    "    pilha = []\n",
    "\n",
    "    for caractere in stringDeParenteses:\n",
    "        # Verifica se o caractere é um parentese de abertura, caso seja, o adiciona na pilha\n",
    "        if caractere == '(':\n",
    "            pilha.append(caractere)\n",
    "        \n",
    "        # Verifica se o caractere é um parentese de fechamento, caso seja, realiza outras verificações\n",
    "        elif caractere == ')':\n",
    "            # Verifica se a pilha está vazia, ou seja, a string começa com fechamento ou houve excesso deles. Retorna mensagem negativa\n",
    "            if not pilha:\n",
    "                print('DESBALANCEADA Tipo 1: A string de parenteses inserida NÃO É balanceada.')\n",
    "                return # False\n",
    "            \n",
    "            # Retira o elemento no topo da pilha\n",
    "            else:\n",
    "                pilha.pop()\n",
    "        \n",
    "        # Desencadeado caso a string possua caracteres diferentes de parenteses. Retorna mensagem negativa\n",
    "        else:\n",
    "            print('ERRO: Insira apenas parenteses na string!')\n",
    "            return # False\n",
    "    \n",
    "    # Verifica se a pilha foi esvaziada, caso tenha, retorna mensagem de sucesso\n",
    "    if not pilha:\n",
    "        print('BALANCEADA: A string de parenteses inserida É balanceada.')\n",
    "        return # True\n",
    "\n",
    "    # Desencadeado se a pilha ainda possue parenteses de abertura, ou seja, haviam mais aberturas do que fechamentos na string. Retorna mensagem negativa\n",
    "    else:\n",
    "        print('DESBALANCEADA Tipo 2: A string de parenteses inserida NÃO É balanceada.')\n",
    "        return # False"
   ]
  },
  {
   "cell_type": "code",
   "execution_count": 6,
   "id": "2472db68-f16d-4806-95ba-64b98ed86df6",
   "metadata": {},
   "outputs": [
    {
     "name": "stdout",
     "output_type": "stream",
     "text": [
      "BALANCEADA: A string de parenteses inserida É balanceada.\n",
      "BALANCEADA: A string de parenteses inserida É balanceada.\n",
      "BALANCEADA: A string de parenteses inserida É balanceada.\n",
      "DESBALANCEADA Tipo 1: A string de parenteses inserida NÃO É balanceada.\n",
      "DESBALANCEADA Tipo 1: A string de parenteses inserida NÃO É balanceada.\n",
      "DESBALANCEADA Tipo 2: A string de parenteses inserida NÃO É balanceada.\n",
      "ERRO: Insira apenas parenteses na string!\n"
     ]
    }
   ],
   "source": [
    "# Testando Implementação <=============================\n",
    "stringBalanceada1 = \"(()()()())\"\n",
    "stringBalanceada2 = \"(((())))\"\n",
    "stringBalanceada3 = \"(()((())()))\"\n",
    "stringDesbalanceada1 = \"))((\"\n",
    "stringDesbalanceada2 = \"()))\"\n",
    "stringDesbalanceada3 = \"((((((())\"\n",
    "stringIncorreta = \"(a())\"\n",
    "\n",
    "verificarParenteses(stringBalanceada1)\n",
    "verificarParenteses(stringBalanceada2)\n",
    "verificarParenteses(stringBalanceada3)\n",
    "verificarParenteses(stringDesbalanceada1)\n",
    "verificarParenteses(stringDesbalanceada2)\n",
    "verificarParenteses(stringDesbalanceada3)\n",
    "verificarParenteses(stringIncorreta)"
   ]
  }
 ],
 "metadata": {
  "kernelspec": {
   "display_name": "Python 3 (ipykernel)",
   "language": "python",
   "name": "python3"
  },
  "language_info": {
   "codemirror_mode": {
    "name": "ipython",
    "version": 3
   },
   "file_extension": ".py",
   "mimetype": "text/x-python",
   "name": "python",
   "nbconvert_exporter": "python",
   "pygments_lexer": "ipython3",
   "version": "3.11.7"
  }
 },
 "nbformat": 4,
 "nbformat_minor": 5
}
